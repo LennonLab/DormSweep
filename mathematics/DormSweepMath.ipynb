{
 "cells": [
  {
   "cell_type": "markdown",
   "metadata": {},
   "source": [
    "The goal is to extend the hitchhikinh model described in Eriksson et al., (2008) to a population with a seed bank. In the model there are two alleles: $B$ and $b$.  Below are the transition probabilities for our model."
   ]
  },
  {
   "cell_type": "markdown",
   "metadata": {},
   "source": [
    "$p_{i\\rightarrow i} = (\\frac{i}{N}\\cdot \\frac{i}{N})\\cdot(1-d) + \\frac{i}{N}\\cdot s(1-\\frac{i}{N})\\cdot(1-d)$ \n",
    "<br />\n",
    "$p_{i\\rightarrow j} = \\frac{i}{N} \\cdot d$ \n",
    "<br />\n",
    "$p_{i\\rightarrow N -i} = \\frac{i}{N} \\cdot(1-\\frac{i}{N})\\cdot(1-s)\\cdot(1-d)$ \n",
    "<br />\n",
    "$p_{N-i\\rightarrow N -i} = (1-\\frac{i}{N})\\cdot(1-\\frac{i}{N})\\cdot(1-d)$\n",
    "<br />\n",
    "$p_{N-i\\rightarrow i} = \\frac{i}{N}\\cdot(1-\\frac{i}{N})\\cdot(1-d)$\n",
    "<br />\n",
    "$p_{N-i\\rightarrow M-j} = (1-\\frac{i}{N})\\cdot d$\n",
    "<br />\n",
    "$p_{j\\rightarrow j} = \\frac{j}{M}\\cdot(1-r)$\n",
    "<br />\n",
    "$p_{j\\rightarrow i} = \\frac{j}{M}\\cdot r$\n",
    "<br />\n",
    "$p_{M-j\\rightarrow M-j} = (1-\\frac{j}{M})\\cdot (1-r)$\n",
    "<br />\n",
    "$p_{M-j\\rightarrow N-i} = (1-\\frac{j}{M})\\cdot r$\n",
    "\n",
    "<br />\n",
    "Where $K = \\frac{N}{M}$, $d =\\frac{c \\cdot K}{N} $, and $r = \\frac{c}{M}$. The probabilities $p_{M-j\\rightarrow j}$ and $p_{j\\rightarrow M-j}$ are both equal to zero.\n",
    "<br />\n",
    "\n",
    "### Conditioning on the fixation of allele $B$:\n",
    "\n",
    "The number of copies $k$ of allele $B$ can only increase or deacrease in the activie portion of the population. Here we consider the number $k_{i}$ of copies of the advantageous allelic type in the population after the $i$th change in $k$. The sequence $k_{1}, k_{2},...$, then follows a Markov chain where the probability that $k$ increases by one after a replacement where $k$ changes is \n",
    "<br />\n",
    "$\\frac{p_{N-i\\rightarrow i}}{p_{N-i\\rightarrow i} + p_{i\\rightarrow N-i}} = \\frac{1}{2-s}$ \n",
    "<br />\n",
    "and we can extend the results of this equation from Eriksson et al., acquiring the recursion\n",
    "<br />\n",
    "$h_{k} = \\frac{1}{2-s}h_{k+1} + (1 - \\frac{1}{2-s}) h_{k-1}$\n",
    "I'm not sure whether we can do this, but since here $k$ can be between $1$ and $N+M$, let's take the unique solution from Durrett, 2002.\n",
    "$h_{k} =  \\frac{1-(1-s)^{k}}{1-(1-s)^{N+M}}$\n",
    "\n",
    "test this with simulations....."
   ]
  },
  {
   "cell_type": "markdown",
   "metadata": {},
   "source": []
  },
  {
   "cell_type": "markdown",
   "metadata": {},
   "source": []
  },
  {
   "cell_type": "code",
   "execution_count": null,
   "metadata": {
    "collapsed": true
   },
   "outputs": [],
   "source": []
  }
 ],
 "metadata": {
  "kernelspec": {
   "display_name": "Python [conda root]",
   "language": "python",
   "name": "conda-root-py"
  },
  "language_info": {
   "codemirror_mode": {
    "name": "ipython",
    "version": 2
   },
   "file_extension": ".py",
   "mimetype": "text/x-python",
   "name": "python",
   "nbconvert_exporter": "python",
   "pygments_lexer": "ipython2",
   "version": "2.7.13"
  }
 },
 "nbformat": 4,
 "nbformat_minor": 2
}
